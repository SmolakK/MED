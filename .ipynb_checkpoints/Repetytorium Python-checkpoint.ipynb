{
 "cells": [
  {
   "cell_type": "markdown",
   "metadata": {},
   "source": [
    "<h2>O Pythonie</h2>\n",
    "\n",
    " <img src=\"https://upload.wikimedia.org/wikipedia/commons/thumb/f/f8/Python_logo_and_wordmark.svg/240px-Python_logo_and_wordmark.svg.png\"> \n",
    " \n",
    "Python to język programowania <b>wysokiego poziomu</b>. Python jest również językiem programowania <b> obiektowego </b>. To jeden z wielu dostępnych języków, w którym można nauczyć się programowania. Każdy ma swoje wady i zalety, jak również swoje szczególne przeznaczenie."
   ]
  },
  {
   "cell_type": "markdown",
   "metadata": {},
   "source": [
    "<h1>Literatura</h1>\n",
    "    <ul>\n",
    "    <li>A. B. Downey, J. Elkner, C. Meyers, “Think Python. How to Think Like a Computer Scientist”: http://www.greenteapress.com/thinkpython/</li>\n",
    "    <li>Matthes E., \"Python Crash Course: A Hands-On, Project-Based Introduction to Programming\"</li>\n",
    "    <li>Kurs: https://www.codecademy.com/learn/learn-python</li>\n",
    "    <li>dokumentacja: https://www.python.org/</li>\n",
    "    </ul>\n",
    "    "
   ]
  },
  {
   "cell_type": "markdown",
   "metadata": {},
   "source": [
    "<h1>Przygotowanie środowiska</h1>\n",
    "\n",
    "Mac i UNIX: w większości dystrybucji MacOS i Unix Python jest już zainstalowany na komputerze. Nadal należy przygotować środowisko.\n",
    "\n",
    "Windows: Należy przygotowac środowisko łącznie z instalacją języka oprogramowania.\n",
    "\n",
    "Najlepszym wyborem jest wszystko-w-jednym jest Anaconda https://www.anaconda.com/, która instaluje język Python wraz z najpotrzebniejszymi bibliotekami\n",
    "\n",
    "Pobieramy Anacondę dla wersji <b>2 lub 3</b>"
   ]
  },
  {
   "cell_type": "markdown",
   "metadata": {},
   "source": [
    "<ol>\n",
    "    <li>Instalujemy ją z pliku .exe</li>\n",
    "    <li><b>Zaznaczamy \"Add Anaconda to the system PATH environment variable\"</b></li>\n",
    "    <li>Wybieramy \"Install\"</li>\n",
    "    <li>Po instalacji uruchamiamy Anaconda Prompt (konsola) lub Anaconda Navigator (graficzny)</li>\n",
    "</ol>\n",
    "\n",
    "Od teraz Pythnon dostępny jest na komputerze. Możemy go wywołać uruchamiając konsolę i wpisując \"python\" i uruchamiając jego tryb <b>interaktywny</b>. W tym trybie można wykonywać operacje na bieżąco, nie można natomiast pisać programu/skryptu. Do tego potrzebne jest nam środowisko programistyczne.\n"
   ]
  },
  {
   "cell_type": "markdown",
   "metadata": {},
   "source": [
    "<h1>Co to jest IDE?</h1>\n",
    "\n",
    "Integrated Development Environment to środowisko programistyczne, które służy do tworzenia, modyfikowania i testowania oprogramowania/ kodu źródłowego. Wiele firm oferuje różne środowiska, zarówno darmowe, jak również zaawanosowane płatne wersje.\n",
    "\n",
    "IDE umozliwia między innymi:\n",
    "<ul>\n",
    "    <li>Szybką i wygodną edycję kodu</li>\n",
    "    <li>Debugowanie kodu (śledzenie wartości zmiennych, zatrzymywanie kodu w dowolnym miejscu)</li>\n",
    "    <li>Podpowiedzi nazw funkcji i zmiennych</li>\n",
    "    <li>Dynamiczne sprawdzanie składni</li>\n",
    "</ul>\n",
    "\n",
    "Python domyślnie instaluje proste środowisko <b>IDLE</b>, które nie ma zbyt wielu funkcjonalności.\n",
    "\n",
    "Anaconda domyślnie instaluje środowisko <b>Spyder</b>, które jest jednym z lepszych środowisk IDE\n",
    "\n",
    "<img src=\"https://www.marsja.se/wp-content/uploads/2016/01/Spyder_object_inspetor.png.png\">"
   ]
  },
  {
   "cell_type": "markdown",
   "metadata": {},
   "source": [
    "<h1>Jupyter Notebook</h1>\n",
    "\n",
    "Typ IDE, który pozwala na bieżącą edycję kodu w formie następujących linijek i jednocześnie wyświetlania poniżej ich wyników, wykresów i tabel w naprzemiennej formie kod->wynik. Jest bardzo dobrym narzędziem do testowania funkcjonalności bibliotek i nauki. Pozwala na szybką edycję kodu i wyświetlenie wyniku, <b> bez potrzeby kompilacji całego kodu ponownie </b>. Jest uruchamiany w przeglądarce internetowej.\n",
    "\n",
    "<img src=\"http://i.imgur.com/100MtXR.png\" width=700>\n",
    "\n",
    "Jupyter Notebook posiada duże możliwości prezentacji kodu <b>Cała ta prezentacja jest wykonana w Jupyter Notebook z dodatkiem RISE.</b>"
   ]
  },
  {
   "cell_type": "markdown",
   "metadata": {},
   "source": [
    "Aby uruchomić Jupyter Notebook wybieramy \"Launch\" w Anaconda Navigator lub wpsiujemy jupyter-notebook w Anaconda Prompt"
   ]
  },
  {
   "cell_type": "markdown",
   "metadata": {},
   "source": [
    "START!\n",
    "\n",
    "Zaczynamy kodować w Pythonie.\n",
    "\n",
    "Klasycznie pierwszą linijką, nie inaczej musi być polecenie wyświetlające tekst \"Hello World!\"\n"
   ]
  },
  {
   "cell_type": "code",
   "execution_count": 3,
   "metadata": {},
   "outputs": [
    {
     "name": "stdout",
     "output_type": "stream",
     "text": [
      "Hello World!\n"
     ]
    }
   ],
   "source": [
    "print(\"Hello World!\")"
   ]
  },
  {
   "cell_type": "markdown",
   "metadata": {},
   "source": [
    " Proste typy danych\n",
    "\n",
    "Liczby\n",
    "\n",
    "    całkowite (int)\n",
    "    zmiennoprzecinkowe (float)\n",
    "    złożone (complex)\n"
   ]
  },
  {
   "cell_type": "code",
   "execution_count": 13,
   "metadata": {},
   "outputs": [
    {
     "data": {
      "text/plain": [
       "int"
      ]
     },
     "execution_count": 13,
     "metadata": {},
     "output_type": "execute_result"
    }
   ],
   "source": [
    "type(3)"
   ]
  },
  {
   "cell_type": "code",
   "execution_count": 14,
   "metadata": {},
   "outputs": [
    {
     "data": {
      "text/plain": [
       "float"
      ]
     },
     "execution_count": 14,
     "metadata": {},
     "output_type": "execute_result"
    }
   ],
   "source": [
    "type(3.0)"
   ]
  },
  {
   "cell_type": "code",
   "execution_count": 15,
   "metadata": {},
   "outputs": [
    {
     "data": {
      "text/plain": [
       "complex"
      ]
     },
     "execution_count": 15,
     "metadata": {},
     "output_type": "execute_result"
    }
   ],
   "source": [
    "type(1+1j)"
   ]
  },
  {
   "cell_type": "markdown",
   "metadata": {},
   "source": [
    "Tekst String"
   ]
  },
  {
   "cell_type": "code",
   "execution_count": 16,
   "metadata": {},
   "outputs": [
    {
     "data": {
      "text/plain": [
       "str"
      ]
     },
     "execution_count": 16,
     "metadata": {},
     "output_type": "execute_result"
    }
   ],
   "source": [
    "type(\"Tekst\")"
   ]
  },
  {
   "cell_type": "markdown",
   "metadata": {},
   "source": [
    "Typ logiczny (boolean)"
   ]
  },
  {
   "cell_type": "code",
   "execution_count": 18,
   "metadata": {},
   "outputs": [
    {
     "data": {
      "text/plain": [
       "bool"
      ]
     },
     "execution_count": 18,
     "metadata": {},
     "output_type": "execute_result"
    }
   ],
   "source": [
    "type(True)"
   ]
  },
  {
   "cell_type": "markdown",
   "metadata": {},
   "source": [
    "<h1>Definicja zmiennych</h1>\n",
    "\n",
    "Zmienną w Pythonie definiujemy przez proste przypisanie, w odróżnieniu od innych języków programowania niższych poziomów."
   ]
  },
  {
   "cell_type": "code",
   "execution_count": null,
   "metadata": {},
   "outputs": [],
   "source": []
  },
  {
   "cell_type": "markdown",
   "metadata": {},
   "source": [
    "<h2> Zmienne w Pythonie są dynamiczne </h2>\n",
    "Oznacza to, że możemy zmieniać typ wartości przypisanej do zmiennej"
   ]
  },
  {
   "cell_type": "code",
   "execution_count": null,
   "metadata": {},
   "outputs": [],
   "source": []
  },
  {
   "cell_type": "markdown",
   "metadata": {},
   "source": [
    "<h2>Każdy typ ma szczególne właściwości</h2>"
   ]
  },
  {
   "cell_type": "code",
   "execution_count": 1,
   "metadata": {},
   "outputs": [
    {
     "data": {
      "text/plain": [
       "int"
      ]
     },
     "execution_count": 1,
     "metadata": {},
     "output_type": "execute_result"
    }
   ],
   "source": [
    "a = 3\n",
    "type(a)"
   ]
  },
  {
   "cell_type": "code",
   "execution_count": 2,
   "metadata": {},
   "outputs": [
    {
     "data": {
      "text/plain": [
       "6"
      ]
     },
     "execution_count": 2,
     "metadata": {},
     "output_type": "execute_result"
    }
   ],
   "source": [
    "a + a"
   ]
  },
  {
   "cell_type": "code",
   "execution_count": 3,
   "metadata": {},
   "outputs": [
    {
     "data": {
      "text/plain": [
       "str"
      ]
     },
     "execution_count": 3,
     "metadata": {},
     "output_type": "execute_result"
    }
   ],
   "source": [
    "a = \"3\"\n",
    "type(a)"
   ]
  },
  {
   "cell_type": "code",
   "execution_count": 4,
   "metadata": {},
   "outputs": [
    {
     "data": {
      "text/plain": [
       "'333'"
      ]
     },
     "execution_count": 4,
     "metadata": {},
     "output_type": "execute_result"
    }
   ],
   "source": [
    "a+a+a"
   ]
  },
  {
   "cell_type": "markdown",
   "metadata": {},
   "source": [
    "<h1>Operacje arytmetyczne</h1>\n",
    "Podstawowe operacje są zdefiniowane w Pythonie bez potrzeby korzystania z zewnętrznych bibliotek"
   ]
  },
  {
   "cell_type": "code",
   "execution_count": 6,
   "metadata": {},
   "outputs": [
    {
     "data": {
      "text/plain": [
       "4"
      ]
     },
     "execution_count": 6,
     "metadata": {},
     "output_type": "execute_result"
    }
   ],
   "source": [
    "#dodwanie"
   ]
  },
  {
   "cell_type": "code",
   "execution_count": null,
   "metadata": {},
   "outputs": [],
   "source": [
    "#odejmowanie"
   ]
  },
  {
   "cell_type": "code",
   "execution_count": null,
   "metadata": {},
   "outputs": [],
   "source": [
    "#mnożenie"
   ]
  },
  {
   "cell_type": "code",
   "execution_count": null,
   "metadata": {},
   "outputs": [],
   "source": [
    "#dzielenie"
   ]
  },
  {
   "cell_type": "code",
   "execution_count": null,
   "metadata": {},
   "outputs": [],
   "source": [
    "#potęgowanie"
   ]
  },
  {
   "cell_type": "code",
   "execution_count": null,
   "metadata": {},
   "outputs": [],
   "source": [
    "#modulo"
   ]
  },
  {
   "cell_type": "markdown",
   "metadata": {},
   "source": [
    "<h1> Rzutowanie typów </h1>\n",
    "To zmiana typu danej"
   ]
  },
  {
   "cell_type": "code",
   "execution_count": 7,
   "metadata": {},
   "outputs": [],
   "source": [
    "#int"
   ]
  },
  {
   "cell_type": "code",
   "execution_count": 8,
   "metadata": {},
   "outputs": [],
   "source": [
    "#float"
   ]
  },
  {
   "cell_type": "code",
   "execution_count": 9,
   "metadata": {},
   "outputs": [],
   "source": [
    "#str"
   ]
  },
  {
   "cell_type": "code",
   "execution_count": 10,
   "metadata": {},
   "outputs": [],
   "source": [
    "#bool"
   ]
  },
  {
   "cell_type": "markdown",
   "metadata": {},
   "source": [
    "<h1> Ciąg dalszy operacji na liczbach </h1>"
   ]
  },
  {
   "cell_type": "code",
   "execution_count": 11,
   "metadata": {},
   "outputs": [],
   "source": [
    "#wartosc bezwzględna"
   ]
  },
  {
   "cell_type": "code",
   "execution_count": 12,
   "metadata": {},
   "outputs": [],
   "source": [
    "#dzielenie i reszta"
   ]
  },
  {
   "cell_type": "code",
   "execution_count": 13,
   "metadata": {},
   "outputs": [],
   "source": [
    "#potęga"
   ]
  },
  {
   "cell_type": "markdown",
   "metadata": {},
   "source": [
    "<h1> Błędy </h1>\n",
    "\n",
    "Gdy pojawi się w kodzie błąd, warto spojrzeć na to co go spowodowało, by znaleźć przyczynę"
   ]
  },
  {
   "cell_type": "code",
   "execution_count": 14,
   "metadata": {},
   "outputs": [
    {
     "ename": "ValueError",
     "evalue": "could not convert string to float: 'Tego nie da się'",
     "output_type": "error",
     "traceback": [
      "\u001b[1;31m---------------------------------------------------------------------------\u001b[0m",
      "\u001b[1;31mValueError\u001b[0m                                Traceback (most recent call last)",
      "\u001b[1;32m<ipython-input-14-8522ce543eb0>\u001b[0m in \u001b[0;36m<module>\u001b[1;34m\u001b[0m\n\u001b[1;32m----> 1\u001b[1;33m \u001b[0mfloat\u001b[0m\u001b[1;33m(\u001b[0m\u001b[1;34m\"Tego nie da się\"\u001b[0m\u001b[1;33m)\u001b[0m\u001b[1;33m\u001b[0m\u001b[1;33m\u001b[0m\u001b[0m\n\u001b[0m",
      "\u001b[1;31mValueError\u001b[0m: could not convert string to float: 'Tego nie da się'"
     ]
    }
   ],
   "source": [
    "float(\"Tego nie da się\")"
   ]
  },
  {
   "cell_type": "markdown",
   "metadata": {},
   "source": [
    "<h1> Importowanie bibliotek </h1>\n",
    "\n",
    "Biblioteki zawierają dodatkowe funkcjonalności, klasy i typy danych.\n",
    "Biblioteki można importować na 3 sposoby:"
   ]
  },
  {
   "cell_type": "code",
   "execution_count": null,
   "metadata": {},
   "outputs": [],
   "source": []
  },
  {
   "cell_type": "code",
   "execution_count": null,
   "metadata": {},
   "outputs": [],
   "source": []
  },
  {
   "cell_type": "code",
   "execution_count": null,
   "metadata": {},
   "outputs": [],
   "source": []
  },
  {
   "cell_type": "markdown",
   "metadata": {},
   "source": [
    "\n",
    "Dokumentacja bilbioteki math: https://docs.python.org/2/library/math.html\n"
   ]
  },
  {
   "cell_type": "markdown",
   "metadata": {},
   "source": [
    "<h2> Indeksowanie </h2>\n",
    "\n",
    "Indeksowanie pozwala na pobranie wartości obiektu złożonego - ze znaków, z wartości lub z innych obiektów.\n",
    "\n",
    "<b>Indeks w Pythonie liczymy od zera</b>"
   ]
  },
  {
   "cell_type": "code",
   "execution_count": 16,
   "metadata": {},
   "outputs": [],
   "source": [
    "s = \"Monty Python\" #tekst"
   ]
  },
  {
   "cell_type": "code",
   "execution_count": 17,
   "metadata": {},
   "outputs": [],
   "source": [
    "#Od końca"
   ]
  },
  {
   "cell_type": "code",
   "execution_count": 18,
   "metadata": {},
   "outputs": [],
   "source": [
    "#len"
   ]
  },
  {
   "cell_type": "code",
   "execution_count": 19,
   "metadata": {},
   "outputs": [],
   "source": [
    "val = 232 #liczby"
   ]
  },
  {
   "cell_type": "markdown",
   "metadata": {},
   "source": [
    "<h2> Wycinki </h2>\n",
    "Podobnie do indeksowania pozyskują wartości, z tą różnicą że pobieramy wybrany fragment"
   ]
  },
  {
   "cell_type": "code",
   "execution_count": 20,
   "metadata": {},
   "outputs": [],
   "source": [
    "s = \"Monty Python\""
   ]
  },
  {
   "cell_type": "code",
   "execution_count": 21,
   "metadata": {},
   "outputs": [],
   "source": [
    "#od początku"
   ]
  },
  {
   "cell_type": "code",
   "execution_count": 23,
   "metadata": {},
   "outputs": [],
   "source": [
    "#do końca"
   ]
  },
  {
   "cell_type": "code",
   "execution_count": 24,
   "metadata": {},
   "outputs": [],
   "source": [
    "#co drugi"
   ]
  },
  {
   "cell_type": "code",
   "execution_count": 25,
   "metadata": {},
   "outputs": [],
   "source": [
    "#od końca?"
   ]
  },
  {
   "cell_type": "markdown",
   "metadata": {},
   "source": [
    " Typy typowe dla Pythona\n",
    "\n",
    "Python oferuje wiele dodatkowych typów danych, zwłaszcza za pośrednictwem bibliotek. Kilka z nich jest wbudowane w język i są bardzo użyteczne, a ich znajomość ułatwia pracę. Są to:\n",
    "\n",
    "    Listy\n",
    "    Słowniki\n",
    "    Krotka\n",
    "    Zbiór\n"
   ]
  },
  {
   "cell_type": "markdown",
   "metadata": {},
   "source": [
    "<h2>Listy</h2>\n",
    "Pozwalają przechowywać wiele elementów, <b>dowolnego</b> typu, są modyfikowalne i zachowują kolejność elementów\n",
    "Definiuje się je przez []"
   ]
  },
  {
   "cell_type": "code",
   "execution_count": 26,
   "metadata": {},
   "outputs": [],
   "source": [
    "#lista int\n",
    "#lista str\n",
    "#type"
   ]
  },
  {
   "cell_type": "code",
   "execution_count": 27,
   "metadata": {},
   "outputs": [],
   "source": [
    "#mieszana"
   ]
  },
  {
   "cell_type": "code",
   "execution_count": 28,
   "metadata": {},
   "outputs": [],
   "source": [
    "#listcepcja"
   ]
  },
  {
   "cell_type": "markdown",
   "metadata": {},
   "source": [
    "<h3> Indeksowanie w listach </h3>"
   ]
  },
  {
   "cell_type": "code",
   "execution_count": 29,
   "metadata": {},
   "outputs": [
    {
     "data": {
      "text/plain": [
       "['zaraz zagnieździmy', ['kolejne gniazdo']]"
      ]
     },
     "execution_count": 29,
     "metadata": {},
     "output_type": "execute_result"
    }
   ],
   "source": [
    "listcepcja = [1,[3,4],'dwa',['zaraz zagnieździmy',['kolejne gniazdo']]]\n",
    "listcepcja[3]"
   ]
  },
  {
   "cell_type": "code",
   "execution_count": 30,
   "metadata": {},
   "outputs": [],
   "source": [
    "#kolejne gniazdo"
   ]
  },
  {
   "cell_type": "markdown",
   "metadata": {},
   "source": [
    "<h3> Modyfikacja listy - dodawanie i zmiana elementów</h3>"
   ]
  },
  {
   "cell_type": "code",
   "execution_count": 31,
   "metadata": {},
   "outputs": [],
   "source": [
    "#poprzez indeks"
   ]
  },
  {
   "cell_type": "code",
   "execution_count": 32,
   "metadata": {},
   "outputs": [],
   "source": [
    "#append"
   ]
  },
  {
   "cell_type": "code",
   "execution_count": 33,
   "metadata": {},
   "outputs": [],
   "source": [
    "#+"
   ]
  },
  {
   "cell_type": "markdown",
   "metadata": {},
   "source": [
    "<h3> Modyfikacja listy - usuwanie elementów</h3>"
   ]
  },
  {
   "cell_type": "code",
   "execution_count": 34,
   "metadata": {},
   "outputs": [
    {
     "name": "stdout",
     "output_type": "stream",
     "text": [
      "None\n"
     ]
    }
   ],
   "source": [
    "lista = [1,2,3,4,5]\n",
    "print(lista.remove(1))#remove"
   ]
  },
  {
   "cell_type": "code",
   "execution_count": 35,
   "metadata": {},
   "outputs": [],
   "source": [
    "#pop"
   ]
  },
  {
   "cell_type": "markdown",
   "metadata": {},
   "source": [
    "<h3> Przeszukiwanie list </h3>"
   ]
  },
  {
   "cell_type": "code",
   "execution_count": 36,
   "metadata": {},
   "outputs": [],
   "source": [
    "#in"
   ]
  },
  {
   "cell_type": "code",
   "execution_count": 37,
   "metadata": {},
   "outputs": [],
   "source": [
    "#index"
   ]
  },
  {
   "cell_type": "markdown",
   "metadata": {},
   "source": [
    "<h2> Krotki</h2>\n",
    "    Są jak listy...z tą różnicą że nie są modyfikowalne\n",
    "    Definiujemy je poprzez ()"
   ]
  },
  {
   "cell_type": "code",
   "execution_count": 38,
   "metadata": {},
   "outputs": [
    {
     "data": {
      "text/plain": [
       "tuple"
      ]
     },
     "execution_count": 38,
     "metadata": {},
     "output_type": "execute_result"
    }
   ],
   "source": [
    "krotka1 = (2,\"da\",4)\n",
    "type(krotka1)"
   ]
  },
  {
   "cell_type": "code",
   "execution_count": 39,
   "metadata": {},
   "outputs": [],
   "source": [
    "#indeksowanie"
   ]
  },
  {
   "cell_type": "code",
   "execution_count": 40,
   "metadata": {},
   "outputs": [],
   "source": [
    "#modyfikacje"
   ]
  },
  {
   "cell_type": "markdown",
   "metadata": {},
   "source": [
    "<h2>Zbiory</h2>\n",
    "Przechowują dane, są niemodyfikowalne, nie zachowują kolejności, przechowują tylko <b>unikalne</b> elementy"
   ]
  },
  {
   "cell_type": "code",
   "execution_count": 41,
   "metadata": {},
   "outputs": [
    {
     "data": {
      "text/plain": [
       "set"
      ]
     },
     "execution_count": 41,
     "metadata": {},
     "output_type": "execute_result"
    }
   ],
   "source": [
    "zbior = set([3,4,5,6])\n",
    "type(zbior)"
   ]
  },
  {
   "cell_type": "code",
   "execution_count": 42,
   "metadata": {},
   "outputs": [],
   "source": [
    "#unikalne"
   ]
  },
  {
   "cell_type": "code",
   "execution_count": 43,
   "metadata": {},
   "outputs": [],
   "source": [
    "#union"
   ]
  },
  {
   "cell_type": "code",
   "execution_count": 44,
   "metadata": {},
   "outputs": [],
   "source": [
    "#intersection"
   ]
  },
  {
   "cell_type": "markdown",
   "metadata": {},
   "source": [
    "<h2>Słowniki</h2>\n",
    "Słowniki jeden z najważniejszych typów wbudowanych Pythona. Opisuje on związek par wartość - klucz. \n",
    "Słownik nie zachowuje kolejności elementów. Definiuje się go za pomocą {}"
   ]
  },
  {
   "cell_type": "code",
   "execution_count": 45,
   "metadata": {},
   "outputs": [],
   "source": [
    "#definicja"
   ]
  },
  {
   "cell_type": "code",
   "execution_count": 46,
   "metadata": {},
   "outputs": [],
   "source": [
    "#indeksowanie - nie jest uporzadkowany"
   ]
  },
  {
   "cell_type": "markdown",
   "metadata": {},
   "source": [
    "<h3>Indeksowanie</h3>"
   ]
  },
  {
   "cell_type": "code",
   "execution_count": 47,
   "metadata": {},
   "outputs": [],
   "source": [
    "#przez klucz"
   ]
  },
  {
   "cell_type": "markdown",
   "metadata": {},
   "source": [
    "<h3> Modyfikacje </h3>"
   ]
  },
  {
   "cell_type": "code",
   "execution_count": 48,
   "metadata": {},
   "outputs": [],
   "source": [
    "#Nadpisywanie klucza"
   ]
  },
  {
   "cell_type": "code",
   "execution_count": 49,
   "metadata": {},
   "outputs": [],
   "source": [
    "#Nowa wartość"
   ]
  },
  {
   "cell_type": "markdown",
   "metadata": {},
   "source": [
    "<h3> Dostęp do wartości i kluczy </h3>"
   ]
  },
  {
   "cell_type": "code",
   "execution_count": 50,
   "metadata": {},
   "outputs": [],
   "source": [
    "#keys"
   ]
  },
  {
   "cell_type": "code",
   "execution_count": 51,
   "metadata": {},
   "outputs": [],
   "source": [
    "#values"
   ]
  },
  {
   "cell_type": "code",
   "execution_count": 52,
   "metadata": {},
   "outputs": [],
   "source": [
    "#items"
   ]
  },
  {
   "cell_type": "markdown",
   "metadata": {},
   "source": [
    "<h1> Sekwencje </h1>\n",
    "Sekwencje pozwalają na iterację poprzez pewien ciąg wartości - na przykład znaków, liczb i dokonywania na nich operacji.\n",
    "\n",
    "<h2> Sekwencyjne typy danych </h2>\n",
    "To takie typy, które dopuszczają iterację poprzez ich elementy. Są to:\n",
    "<ul>\n",
    "    <li>listy</li>\n",
    "    <li>krotki</li>\n",
    "    <li>tekst</li>\n",
    "    <li>sekwencje binarne</li>\n",
    "</ul>\n",
    "\n",
    "Istnieje także (bardzo często używany) generator sekwencji, który jest funkcją: range() oraz xrange()"
   ]
  },
  {
   "cell_type": "markdown",
   "metadata": {},
   "source": [
    "<h2> Operacje na sekwencjach</h2>"
   ]
  },
  {
   "cell_type": "code",
   "execution_count": 53,
   "metadata": {},
   "outputs": [
    {
     "data": {
      "text/plain": [
       "True"
      ]
     },
     "execution_count": 53,
     "metadata": {},
     "output_type": "execute_result"
    }
   ],
   "source": [
    "#in"
   ]
  },
  {
   "cell_type": "code",
   "execution_count": 55,
   "metadata": {},
   "outputs": [
    {
     "data": {
      "text/plain": [
       "True"
      ]
     },
     "execution_count": 55,
     "metadata": {},
     "output_type": "execute_result"
    }
   ],
   "source": [
    "#not in"
   ]
  },
  {
   "cell_type": "code",
   "execution_count": 56,
   "metadata": {},
   "outputs": [],
   "source": [
    "#mnozenie"
   ]
  },
  {
   "cell_type": "markdown",
   "metadata": {},
   "source": [
    "<h3> Funkcje wbudowane dla sekwencji </h3>\n",
    "len - długość sewencji\n",
    "min, max - najmniejszy i największy element"
   ]
  },
  {
   "cell_type": "code",
   "execution_count": 57,
   "metadata": {},
   "outputs": [],
   "source": [
    "#len, max, min"
   ]
  },
  {
   "cell_type": "markdown",
   "metadata": {},
   "source": [
    "<h2> Co wyrożnia Pythona?</h2>\n",
    "\n",
    "Jego czytelność jest wynikiem praktycznego i funkcjonalnego wdrożenia konwencji z innych języków programowania - mianowice <b> wcięć </b>\n",
    "\n",
    "Każdy fragment kodu, który jest podrzędny <b> musi </b> (w innych językach jest to mile widziane, ale nie jest konieczne) być wcięty <b> tabulatorem lub 4 spacjami </b>\n",
    "\n",
    "Wcięcia te informują interpreter kiedy dany blok kodu się kończy."
   ]
  },
  {
   "cell_type": "markdown",
   "metadata": {},
   "source": [
    "<h1> Iteracje - pętle for i while (na sekwencjach) </h1>\n",
    "\n",
    "Pętle tworzą tzw. iteratory, które iterują się przez sekwencję zwracając każdorazowo <b> kolejne </b> elementy"
   ]
  },
  {
   "cell_type": "markdown",
   "metadata": {},
   "source": [
    "<h2> Pętla for </h2>\n",
    "Jej konstrukcja jest nastepująca\n",
    "\n",
    "for <i>nazwa_iteratora</i> in <i>nazwa_sekwencji</i>:\n",
    "\n",
    "    rób coś"
   ]
  },
  {
   "cell_type": "code",
   "execution_count": 59,
   "metadata": {},
   "outputs": [],
   "source": [
    "#W tekscie"
   ]
  },
  {
   "cell_type": "code",
   "execution_count": 60,
   "metadata": {},
   "outputs": [],
   "source": [
    "#w liscie"
   ]
  },
  {
   "cell_type": "code",
   "execution_count": 61,
   "metadata": {},
   "outputs": [],
   "source": [
    "#w range"
   ]
  },
  {
   "cell_type": "code",
   "execution_count": 62,
   "metadata": {},
   "outputs": [],
   "source": [
    "#podwojna"
   ]
  },
  {
   "cell_type": "markdown",
   "metadata": {},
   "source": [
    "<h2> Pętla while </h2>\n",
    "Pętla for wykonuje się dopóki sekwencja nie dobiegnie końca. Pętla while wykonuje się dopóki podany warunek jest spełniony.\n",
    "\n",
    "Konstrukcja\n",
    "\n",
    "while <i> warunek </i>:\n",
    "\n",
    "    ~rób coś~\n",
    "    \n",
    "Należy uważać, gdyż warunek może nie zostać spełniony nigdy, a kod utknie w pętli!"
   ]
  },
  {
   "cell_type": "code",
   "execution_count": 63,
   "metadata": {},
   "outputs": [],
   "source": [
    "#while"
   ]
  },
  {
   "cell_type": "markdown",
   "metadata": {},
   "source": [
    "<h1> Operatory porównań </h1>\n",
    "\n",
    "Wprowadzenie pętli while doprowadziło nas do momentu w którym warto wspomnieć czym są operatory porównań.\n",
    "Są to (jak w matematyce) operatory, które służą do uzyskania wartości boolean z porównania dwóch zmiennych. Rezultatem jest zatem True lub False"
   ]
  },
  {
   "cell_type": "code",
   "execution_count": 64,
   "metadata": {},
   "outputs": [],
   "source": [
    "#rownosc"
   ]
  },
  {
   "cell_type": "code",
   "execution_count": 65,
   "metadata": {},
   "outputs": [],
   "source": [
    "#nierownosc dokladna"
   ]
  },
  {
   "cell_type": "code",
   "execution_count": 66,
   "metadata": {},
   "outputs": [],
   "source": [
    "#wiekszy niz"
   ]
  },
  {
   "cell_type": "code",
   "execution_count": 67,
   "metadata": {},
   "outputs": [],
   "source": [
    "#wiekszy rowny"
   ]
  },
  {
   "cell_type": "markdown",
   "metadata": {},
   "source": [
    "<h1> Kontrola przepływu - if, elif, else </h1>\n",
    "Instrukcje warunkowe if służą do kontroli przepływu poprzez narzucanie warunków na kod.\n",
    "Struktura to\n",
    "\n",
    "if <i> warunek </i>:\n",
    "\n",
    "    rób coś\n",
    "elif <i> warunek </i>:\n",
    "\n",
    "    rób coś\n",
    "else:\n",
    "\n",
    "    rób coś"
   ]
  },
  {
   "cell_type": "code",
   "execution_count": 69,
   "metadata": {},
   "outputs": [],
   "source": [
    "#if"
   ]
  },
  {
   "cell_type": "code",
   "execution_count": 70,
   "metadata": {},
   "outputs": [],
   "source": [
    "#rozbity if"
   ]
  },
  {
   "cell_type": "markdown",
   "metadata": {},
   "source": [
    "W konstrukcjach z iteratorami oraz pętlami przydatne są też operacje break, end, pass"
   ]
  },
  {
   "cell_type": "code",
   "execution_count": 71,
   "metadata": {},
   "outputs": [],
   "source": [
    "#break, end, pass"
   ]
  },
  {
   "cell_type": "markdown",
   "metadata": {},
   "source": [
    "<h1> Interakcja w konsoli </h1>\n",
    "Polecenie input() pozwala na wprowadzanie wartości w trakcie wykonywania programu. Funkcja tak przydatna jest podczas tworzenia programów operujących w konsoli, a również do testowania kodu w różnych warunkach."
   ]
  },
  {
   "cell_type": "code",
   "execution_count": 72,
   "metadata": {
    "scrolled": false
   },
   "outputs": [
    {
     "name": "stdout",
     "output_type": "stream",
     "text": [
      "20\n",
      "20.0\n",
      "20\n",
      "21.0\n"
     ]
    }
   ],
   "source": [
    "for a in range(2):\n",
    "    x = input()\n",
    "    print(float(x)+a) #bo input jest zawsze tekstem!"
   ]
  },
  {
   "cell_type": "markdown",
   "metadata": {},
   "source": [
    "<h1>Funkcje vs. Metody</h1>\n",
    "\n",
    "Właśnie wykorzystaliśmy <b>funkcję</b> wyświetlania \"print\". Python oferuje również metody. Czym się one różnią?\n",
    "\n",
    "<img src=\"https://d2h0cx97tjks2p.cloudfront.net/blogs/wp-content/uploads/sites/2/2018/02/Python-Functions-vs-Methods-01-1024x536.jpg\">\n",
    "\n",
    "<h1>Funkcje</h1>\n",
    "\n",
    "Funcje mają strukturę (syntax) następującej postaci:\n",
    "\n",
    "<i><b>nazwa</b>(parametr_1,parametr_2,...,parametr_n)</i>\n",
    "\n",
    "Wyróżniamy <b>funkcje wbudowane</b> i <b> funkcje zdefiniowane przez użytkownika</b>.\n",
    "\n",
    "Funkcje wbudowane są dostepne poprzez wywołanie ich nazwy wprost w kodzie (dostępne tu: https://docs.python.org/2/library/functions.html). Przykładem takiej funkcji jest <b>print()</b>\n",
    "\n",
    "Funkcje definiowane przez użytkownika pozwalają na utworzenie nowej funkcjonalności (zajmiemy się nimi później)\n",
    "\n",
    "<h1> Metody </h1>\n",
    "\n",
    "Python jest językiem programowania <b> obiektowego </b>. Oznacza to, że wszystko w nim jest <b>obiektem</b>, który ma swoje właściwości, takie jak atrybuty i metody (o tym dokładniej w dalszej części wykładów).\n",
    "\n",
    "Metody wywoływane są zatem na <b>obiektach</b>. Ich syntax to:\n",
    "<i><b>nazwa_obiektu</b>.nazwa_metody(parametr_1,parametr_2,...,parametr_n)</i>\n",
    "\n",
    "Istnieje w języku kilka wbudowanych obiektów, które posiadają wbudowane metody. Przykładem wbudowanych obiektów są typy danych.\n",
    "\n",
    "<h1>Klasy</h1>\n",
    "Żeby zrozumieć istotę działania metod i ich różność od funkcji, przyjrzyjmy się czym jest obiekt.\n",
    "\n",
    "Obiekt to <b>wszystko</b> co napiszemy w Pythonie. To zarówno klasy jak i funkcje.\n",
    "\n",
    "Spotkamy się z metodami przypisanymi do klas. Klasa to bardzo ważny element języków obiektowych.\n",
    "\n",
    "\n",
    "<h2>Czym zatem jest klasa?</h2>\n",
    "\n",
    "<b>Klasa</b> to <i>abstrakcja</i> pewnego obiektu. Oznacza to uogólnieniony opis pewnego elementu, który zdefiniowany jest przez taką klasę poprzez określenie jego typowych <b>cech (atrybutów) i operacji (metod), które można na nim wykonać</b>. Tą samą strukturą opisujemy elementy świata rzeczywistego.\n",
    "    \n",
    "Przykład obrazujący:\n",
    "\n",
    "<b>Pies</b> to abstrakcyjna klasa, którą opisujemy podgatunek zwierzącia.\n",
    "Ma cechy (atrybuty):\n",
    "<ul>\n",
    "    <li>Kolor sierści</li>\n",
    "    <li>Waga</li>\n",
    "    <li>Imie</li>\n",
    "</ul>\n",
    "\n",
    "Oraz metody:\n",
    "<ul>\n",
    "    <li>Jedz</li>\n",
    "    <li>Siad</li>\n",
    "    <li>Waruj</li>\n",
    "</ul>\n",
    "\n",
    "<h1>Instancja</h1>\n",
    "\n",
    "To praktyczna realizacja klasy.\n",
    "\n",
    "Kontynuując przykład obrazujący:\n",
    "\n",
    "Adoptując psa nadajemy mu atrybuty - imie (Bobby) i opisujemy jego cechy (sierść brązowa, waga 6kg). Wtedy otrzymujemy <b> instancję</b> klasy pies w postaci <i>Bobby</i>.\n",
    "\n",
    "Teraz możemy wywołać metodę na naszej instancji, która zdefiniowana już jest w klasie:\n",
    "\n",
    "pies.waruj()"
   ]
  },
  {
   "cell_type": "code",
   "execution_count": 11,
   "metadata": {
    "scrolled": true
   },
   "outputs": [
    {
     "data": {
      "text/html": [
       "<img src=\"01-uml-base-class-and-object-explained.png\"/>"
      ],
      "text/plain": [
       "<IPython.core.display.Image object>"
      ]
     },
     "execution_count": 11,
     "metadata": {},
     "output_type": "execute_result"
    }
   ],
   "source": [
    "from IPython.display import Image\n",
    "Image(url = \"01-uml-base-class-and-object-explained.png\")"
   ]
  },
  {
   "cell_type": "markdown",
   "metadata": {},
   "source": [
    "Wracając zatem do metod i funkcji.\n",
    "\n",
    "print() to funkcja"
   ]
  },
  {
   "cell_type": "code",
   "execution_count": 12,
   "metadata": {},
   "outputs": [
    {
     "data": {
      "text/plain": [
       "'PIES'"
      ]
     },
     "execution_count": 12,
     "metadata": {},
     "output_type": "execute_result"
    }
   ],
   "source": [
    "a = \"pies\"\n",
    "a.upper() #a to metoda klasy"
   ]
  },
  {
   "cell_type": "markdown",
   "metadata": {},
   "source": [
    "<h2> Funkcje </h2>\n",
    "Istnieje możliwość definiowania własnych funkcji.\n",
    "\n",
    "Tworzą one \"wywoływalne bloki instrukcji\".\n",
    "\n",
    "Są szczególnie przydatne gdy używamy pewnego fragmentu kodu <b>wielokrotnie</b>\n",
    "\n",
    "Mogą (nie muszą) przyjmować parametry/argumenty\n",
    "\n",
    "Mogą (nie muszą) zwracać obiekt"
   ]
  },
  {
   "cell_type": "markdown",
   "metadata": {},
   "source": [
    "<h3> Definicja funkcji </h3>"
   ]
  },
  {
   "cell_type": "code",
   "execution_count": null,
   "metadata": {},
   "outputs": [],
   "source": [
    "def nazwa_funkcji(argumenty):\n",
    "    instrukcje\n",
    "    ...\n",
    "    return obiekt"
   ]
  },
  {
   "cell_type": "markdown",
   "metadata": {},
   "source": [
    "Pamiętamy o wcięciu 4 spacjami lub tabulatorem!"
   ]
  },
  {
   "cell_type": "markdown",
   "metadata": {},
   "source": [
    "<h3>Przykład \"Hello World!\"</h3>"
   ]
  },
  {
   "cell_type": "code",
   "execution_count": null,
   "metadata": {},
   "outputs": [],
   "source": []
  },
  {
   "cell_type": "markdown",
   "metadata": {},
   "source": [
    "<h3>Wykorzystanie argumentów funkcji</h3>"
   ]
  },
  {
   "cell_type": "code",
   "execution_count": 73,
   "metadata": {},
   "outputs": [
    {
     "data": {
      "text/plain": [
       "7"
      ]
     },
     "execution_count": 73,
     "metadata": {},
     "output_type": "execute_result"
    }
   ],
   "source": [
    "def suma(a,b):\n",
    "    return a+b\n",
    "\n",
    "suma(4,3)"
   ]
  },
  {
   "cell_type": "code",
   "execution_count": 74,
   "metadata": {},
   "outputs": [],
   "source": [
    "#odejmowanie"
   ]
  },
  {
   "cell_type": "markdown",
   "metadata": {},
   "source": [
    "<h3> Argumenty ze słowem kluczowym </h3>\n",
    "Argumenty można podzielic na pozycyjne i kluczowe."
   ]
  },
  {
   "cell_type": "code",
   "execution_count": 75,
   "metadata": {},
   "outputs": [],
   "source": [
    "#pozycyjne"
   ]
  },
  {
   "cell_type": "code",
   "execution_count": 76,
   "metadata": {},
   "outputs": [],
   "source": [
    "#zamiana"
   ]
  },
  {
   "cell_type": "code",
   "execution_count": 77,
   "metadata": {},
   "outputs": [],
   "source": [
    "#kluczowe"
   ]
  },
  {
   "cell_type": "code",
   "execution_count": 78,
   "metadata": {},
   "outputs": [],
   "source": [
    "#zamiana"
   ]
  },
  {
   "cell_type": "code",
   "execution_count": 79,
   "metadata": {},
   "outputs": [],
   "source": [
    "#kolejnosc"
   ]
  },
  {
   "cell_type": "markdown",
   "metadata": {},
   "source": [
    "<h3>Domyślne agrumenty</h3>"
   ]
  },
  {
   "cell_type": "code",
   "execution_count": 80,
   "metadata": {},
   "outputs": [],
   "source": [
    "#domyślne"
   ]
  },
  {
   "cell_type": "markdown",
   "metadata": {},
   "source": [
    "<h3> Zagnieżdżanie funkcji </h3>"
   ]
  },
  {
   "cell_type": "code",
   "execution_count": 81,
   "metadata": {},
   "outputs": [
    {
     "data": {
      "text/plain": [
       "8.0"
      ]
     },
     "execution_count": 81,
     "metadata": {},
     "output_type": "execute_result"
    }
   ],
   "source": [
    "def srednia(*args):\n",
    "    return sum(args)/len(args)\n",
    "\n",
    "def suma_srednich(lista1,lista2):\n",
    "    return srednia(*lista1) + srednia(*lista2)\n",
    "    \n",
    "suma_srednich([1,2,3],[4,6,8])"
   ]
  },
  {
   "cell_type": "markdown",
   "metadata": {},
   "source": [
    "<h3> Rekurencja funkcji </h3>"
   ]
  },
  {
   "cell_type": "code",
   "execution_count": 82,
   "metadata": {},
   "outputs": [
    {
     "data": {
      "text/plain": [
       "[0, 1, 1, 2, 3, 5, 8, 13, 21, 34, 55, 89]"
      ]
     },
     "execution_count": 82,
     "metadata": {},
     "output_type": "execute_result"
    }
   ],
   "source": [
    "def rekurencja(n):\n",
    "    if n == 0: return 0\n",
    "    elif n == 1: return 1\n",
    "    else: return rekurencja(n-1)+rekurencja(n-2)\n",
    "\n",
    "[rekurencja(n) for n in range(12)]"
   ]
  },
  {
   "cell_type": "markdown",
   "metadata": {},
   "source": [
    "<h2>Zmienne globalne</h2>\n",
    "\n",
    "Można definiować zmienne globalne, które dostępne są dla wszystkich funkcji"
   ]
  },
  {
   "cell_type": "code",
   "execution_count": 84,
   "metadata": {},
   "outputs": [],
   "source": [
    "globalna = \"globalna\"\n",
    "\n",
    "def f1(tekst):\n",
    "    return tekst + globalna\n",
    "    \n",
    "def f2(tekst):\n",
    "    globalna = \"globalna zmieniona w funkcji\"\n",
    "    return tekst + globalna"
   ]
  },
  {
   "cell_type": "code",
   "execution_count": 85,
   "metadata": {},
   "outputs": [],
   "source": [
    "#po"
   ]
  },
  {
   "cell_type": "code",
   "execution_count": null,
   "metadata": {},
   "outputs": [],
   "source": []
  }
 ],
 "metadata": {
  "kernelspec": {
   "display_name": "Python 3",
   "language": "python",
   "name": "python3"
  },
  "language_info": {
   "codemirror_mode": {
    "name": "ipython",
    "version": 3
   },
   "file_extension": ".py",
   "mimetype": "text/x-python",
   "name": "python",
   "nbconvert_exporter": "python",
   "pygments_lexer": "ipython3",
   "version": "3.7.1"
  }
 },
 "nbformat": 4,
 "nbformat_minor": 2
}
