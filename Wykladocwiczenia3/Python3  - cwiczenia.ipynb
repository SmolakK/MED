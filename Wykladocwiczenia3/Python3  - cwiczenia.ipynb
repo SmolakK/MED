{
 "cells": [
  {
   "cell_type": "markdown",
   "metadata": {},
   "source": [
    "# Python 3: Czas Praktyki"
   ]
  },
  {
   "cell_type": "markdown",
   "metadata": {},
   "source": [
    "Zadanie 1. Zdefiniuj zmienną liczbową, tekstową i logiczną. Wykonaj: sumę i mnożenie wszystkich zmiennych na raz (w dowolnej kolejności) tak by się wykonały (wykorzystaj jak najmniej rzutowaniat typów). Którą operację można wykonać <b> bez </b> rzutowania typów?"
   ]
  },
  {
   "cell_type": "code",
   "execution_count": null,
   "metadata": {},
   "outputs": [],
   "source": []
  },
  {
   "cell_type": "markdown",
   "metadata": {},
   "source": [
    "Zadanie 2. Napisz skrypt, który narysuje figurę poniżej (o dowolnej wysokości).\n",
    "\n",
    "<i>Podpowiedź: wykorzystaj znak spacji '  '</i>"
   ]
  },
  {
   "cell_type": "code",
   "execution_count": 67,
   "metadata": {},
   "outputs": [
    {
     "name": "stdout",
     "output_type": "stream",
     "text": [
      "**********\n",
      " *********\n",
      "  ********\n",
      "   *******\n",
      "    ******\n",
      "     *****\n",
      "      ****\n",
      "       ***\n",
      "        **\n",
      "         *\n"
     ]
    }
   ],
   "source": []
  },
  {
   "cell_type": "code",
   "execution_count": null,
   "metadata": {},
   "outputs": [],
   "source": []
  },
  {
   "cell_type": "markdown",
   "metadata": {},
   "source": [
    "Zadanie 3. W ciągu znaków 'v2c2s2v2d2E2N2J2A2T2 2T2S2E2J2 2O2T2v2c2x2v2x2c2', ukryte jest hasło: \"TO JEST TAJNE\"\n",
    "Odkoduj je w jednej linijce kodu!\n",
    "\n",
    "<i>Podpowiedź: hasło jest odwrócone </i>"
   ]
  },
  {
   "cell_type": "code",
   "execution_count": null,
   "metadata": {},
   "outputs": [],
   "source": []
  },
  {
   "cell_type": "markdown",
   "metadata": {},
   "source": [
    "Zadanie 4. Stwórz słownik zawierający  informację o tym ile księżyców posiadają planety Układu Słonecznego {'Merkury':0, 'Wenus': 0, 'Ziemia': 1, 'Mars': 2, 'Jowisz': 79, 'Neptun': 12, 'Uran': 27}.\n",
    "\n",
    "    1. Dodaj brakującą planetę\n",
    "    2. Popraw jedną błędną wartość\n",
    "    3. Policz średnią wartość dla całego Układu Słonecznego\n",
    "    4. Stwórz nową listę, która zawiera wybrane przez Ciebie planety, policz ile księżyców mają planety z tej listy"
   ]
  },
  {
   "cell_type": "markdown",
   "metadata": {},
   "source": [
    "Zadanie 5. Napisz funkcję, która oblicza silnię danej liczby. Wykorzystaj rekurencyjność funkcji.\n",
    "\n",
    "<i> Spójrz na rekurencyjność funkcji z poprzednich ćwiczeń </i>"
   ]
  },
  {
   "cell_type": "markdown",
   "metadata": {},
   "source": [
    "Zadanie 6. Wykorzystując poniższe fragmenty kodu napisz grę w wisielca. Wyświetlaj nieodgadnięte litery jako _\n",
    "\n",
    "<i> Podpowiedź: wykorzystaje pętlę while, która będzie zliczać dostępne hasła. Wykorzystaj funkcję input() do przyjmowania liter i porównuj je z hasłem </i>"
   ]
  },
  {
   "cell_type": "code",
   "execution_count": 114,
   "metadata": {},
   "outputs": [],
   "source": [
    "from random import choice #import funkcji losowego wybierania z  listy\n",
    "\n",
    "dostepne_hasla = [] #tu będą hasła\n",
    "with open('hasla.txt','r') as hasla: #otwieramy plik hasla z tego folderu\n",
    "    for wiersz in hasla: #iteracja pr\n",
    "        wiersz = wiersz.replace('\\n','')\n",
    "        dostepne_hasla.append(wiersz)\n",
    "haslo = choice(dostepne_hasla)\n",
    "\n"
   ]
  },
  {
   "cell_type": "markdown",
   "metadata": {},
   "source": [
    "Na następnych ćwiczeniach sprawdzę postępy!"
   ]
  },
  {
   "cell_type": "code",
   "execution_count": null,
   "metadata": {},
   "outputs": [],
   "source": []
  }
 ],
 "metadata": {
  "kernelspec": {
   "display_name": "Python 3",
   "language": "python",
   "name": "python3"
  },
  "language_info": {
   "codemirror_mode": {
    "name": "ipython",
    "version": 3
   },
   "file_extension": ".py",
   "mimetype": "text/x-python",
   "name": "python",
   "nbconvert_exporter": "python",
   "pygments_lexer": "ipython3",
   "version": "3.7.1"
  }
 },
 "nbformat": 4,
 "nbformat_minor": 2
}
